{
 "cells": [
  {
   "cell_type": "code",
   "execution_count": 1,
   "id": "522cf1b3",
   "metadata": {},
   "outputs": [
    {
     "name": "stdout",
     "output_type": "stream",
     "text": [
      "Downloading http://yann.lecun.com/exdb/mnist/train-images-idx3-ubyte.gz\n",
      "Downloading http://yann.lecun.com/exdb/mnist/train-images-idx3-ubyte.gz to data/MNIST\\raw\\train-images-idx3-ubyte.gz\n"
     ]
    },
    {
     "name": "stderr",
     "output_type": "stream",
     "text": [
      "100%|██████████| 9912422/9912422 [00:00<00:00, 10794391.65it/s]\n"
     ]
    },
    {
     "name": "stdout",
     "output_type": "stream",
     "text": [
      "Extracting data/MNIST\\raw\\train-images-idx3-ubyte.gz to data/MNIST\\raw\n",
      "\n",
      "Downloading http://yann.lecun.com/exdb/mnist/train-labels-idx1-ubyte.gz\n",
      "Downloading http://yann.lecun.com/exdb/mnist/train-labels-idx1-ubyte.gz to data/MNIST\\raw\\train-labels-idx1-ubyte.gz\n"
     ]
    },
    {
     "name": "stderr",
     "output_type": "stream",
     "text": [
      "100%|██████████| 28881/28881 [00:00<?, ?it/s]"
     ]
    },
    {
     "name": "stdout",
     "output_type": "stream",
     "text": [
      "Extracting data/MNIST\\raw\\train-labels-idx1-ubyte.gz to data/MNIST\\raw\n",
      "\n",
      "Downloading http://yann.lecun.com/exdb/mnist/t10k-images-idx3-ubyte.gz\n",
      "Downloading http://yann.lecun.com/exdb/mnist/t10k-images-idx3-ubyte.gz to data/MNIST\\raw\\t10k-images-idx3-ubyte.gz\n"
     ]
    },
    {
     "name": "stderr",
     "output_type": "stream",
     "text": [
      "\n",
      "100%|██████████| 1648877/1648877 [00:00<00:00, 10764066.81it/s]\n"
     ]
    },
    {
     "name": "stdout",
     "output_type": "stream",
     "text": [
      "Extracting data/MNIST\\raw\\t10k-images-idx3-ubyte.gz to data/MNIST\\raw\n",
      "\n",
      "Downloading http://yann.lecun.com/exdb/mnist/t10k-labels-idx1-ubyte.gz\n",
      "Downloading http://yann.lecun.com/exdb/mnist/t10k-labels-idx1-ubyte.gz to data/MNIST\\raw\\t10k-labels-idx1-ubyte.gz\n"
     ]
    },
    {
     "name": "stderr",
     "output_type": "stream",
     "text": [
      "100%|██████████| 4542/4542 [00:00<?, ?it/s]"
     ]
    },
    {
     "name": "stdout",
     "output_type": "stream",
     "text": [
      "Extracting data/MNIST\\raw\\t10k-labels-idx1-ubyte.gz to data/MNIST\\raw\n",
      "\n",
      "Hidden Neurons: 16, Learning Rate: 0.01\n"
     ]
    },
    {
     "name": "stderr",
     "output_type": "stream",
     "text": [
      "\n"
     ]
    },
    {
     "name": "stdout",
     "output_type": "stream",
     "text": [
      "Epoch [1/10], Validation Accuracy: 0.6738\n",
      "Epoch [2/10], Validation Accuracy: 0.813\n",
      "Epoch [3/10], Validation Accuracy: 0.847\n",
      "Epoch [4/10], Validation Accuracy: 0.8672\n",
      "Epoch [5/10], Validation Accuracy: 0.8758\n",
      "Epoch [6/10], Validation Accuracy: 0.882\n",
      "Epoch [7/10], Validation Accuracy: 0.8871\n",
      "Epoch [8/10], Validation Accuracy: 0.8918\n",
      "Epoch [9/10], Validation Accuracy: 0.8926\n",
      "Epoch [10/10], Validation Accuracy: 0.8975\n",
      "-------------------------------------------\n",
      "Hidden Neurons: 16, Learning Rate: 0.001\n",
      "Epoch [1/10], Validation Accuracy: 0.2118\n",
      "Epoch [2/10], Validation Accuracy: 0.3286\n",
      "Epoch [3/10], Validation Accuracy: 0.445\n",
      "Epoch [4/10], Validation Accuracy: 0.514\n",
      "Epoch [5/10], Validation Accuracy: 0.5778\n",
      "Epoch [6/10], Validation Accuracy: 0.6049\n",
      "Epoch [7/10], Validation Accuracy: 0.6323\n",
      "Epoch [8/10], Validation Accuracy: 0.6611\n",
      "Epoch [9/10], Validation Accuracy: 0.6883\n",
      "Epoch [10/10], Validation Accuracy: 0.7124\n",
      "-------------------------------------------\n",
      "Hidden Neurons: 16, Learning Rate: 0.0001\n",
      "Epoch [1/10], Validation Accuracy: 0.1124\n",
      "Epoch [2/10], Validation Accuracy: 0.1157\n",
      "Epoch [3/10], Validation Accuracy: 0.1253\n",
      "Epoch [4/10], Validation Accuracy: 0.1432\n",
      "Epoch [5/10], Validation Accuracy: 0.1671\n",
      "Epoch [6/10], Validation Accuracy: 0.1975\n",
      "Epoch [7/10], Validation Accuracy: 0.2216\n",
      "Epoch [8/10], Validation Accuracy: 0.2452\n",
      "Epoch [9/10], Validation Accuracy: 0.2614\n",
      "Epoch [10/10], Validation Accuracy: 0.2787\n",
      "-------------------------------------------\n",
      "Hidden Neurons: 32, Learning Rate: 0.01\n",
      "Epoch [1/10], Validation Accuracy: 0.7409\n",
      "Epoch [2/10], Validation Accuracy: 0.8377\n",
      "Epoch [3/10], Validation Accuracy: 0.8615\n",
      "Epoch [4/10], Validation Accuracy: 0.873\n",
      "Epoch [5/10], Validation Accuracy: 0.8815\n",
      "Epoch [6/10], Validation Accuracy: 0.888\n",
      "Epoch [7/10], Validation Accuracy: 0.8922\n",
      "Epoch [8/10], Validation Accuracy: 0.8941\n",
      "Epoch [9/10], Validation Accuracy: 0.8973\n",
      "Epoch [10/10], Validation Accuracy: 0.8986\n",
      "-------------------------------------------\n",
      "Hidden Neurons: 32, Learning Rate: 0.001\n",
      "Epoch [1/10], Validation Accuracy: 0.1309\n",
      "Epoch [2/10], Validation Accuracy: 0.2559\n",
      "Epoch [3/10], Validation Accuracy: 0.4456\n",
      "Epoch [4/10], Validation Accuracy: 0.5764\n",
      "Epoch [5/10], Validation Accuracy: 0.6456\n",
      "Epoch [6/10], Validation Accuracy: 0.6854\n",
      "Epoch [7/10], Validation Accuracy: 0.7206\n",
      "Epoch [8/10], Validation Accuracy: 0.7446\n",
      "Epoch [9/10], Validation Accuracy: 0.762\n",
      "Epoch [10/10], Validation Accuracy: 0.7762\n",
      "-------------------------------------------\n",
      "Hidden Neurons: 32, Learning Rate: 0.0001\n",
      "Epoch [1/10], Validation Accuracy: 0.095\n",
      "Epoch [2/10], Validation Accuracy: 0.1013\n",
      "Epoch [3/10], Validation Accuracy: 0.1084\n",
      "Epoch [4/10], Validation Accuracy: 0.1142\n",
      "Epoch [5/10], Validation Accuracy: 0.1172\n",
      "Epoch [6/10], Validation Accuracy: 0.1197\n",
      "Epoch [7/10], Validation Accuracy: 0.1218\n",
      "Epoch [8/10], Validation Accuracy: 0.1235\n",
      "Epoch [9/10], Validation Accuracy: 0.1234\n",
      "Epoch [10/10], Validation Accuracy: 0.1274\n",
      "-------------------------------------------\n",
      "Hidden Neurons: 64, Learning Rate: 0.01\n",
      "Epoch [1/10], Validation Accuracy: 0.7892\n",
      "Epoch [2/10], Validation Accuracy: 0.8477\n",
      "Epoch [3/10], Validation Accuracy: 0.8674\n",
      "Epoch [4/10], Validation Accuracy: 0.8783\n",
      "Epoch [5/10], Validation Accuracy: 0.8854\n",
      "Epoch [6/10], Validation Accuracy: 0.8911\n",
      "Epoch [7/10], Validation Accuracy: 0.8943\n",
      "Epoch [8/10], Validation Accuracy: 0.8952\n",
      "Epoch [9/10], Validation Accuracy: 0.8978\n",
      "Epoch [10/10], Validation Accuracy: 0.9016\n",
      "-------------------------------------------\n",
      "Hidden Neurons: 64, Learning Rate: 0.001\n",
      "Epoch [1/10], Validation Accuracy: 0.1811\n",
      "Epoch [2/10], Validation Accuracy: 0.2942\n",
      "Epoch [3/10], Validation Accuracy: 0.4327\n",
      "Epoch [4/10], Validation Accuracy: 0.5549\n",
      "Epoch [5/10], Validation Accuracy: 0.6396\n",
      "Epoch [6/10], Validation Accuracy: 0.6855\n",
      "Epoch [7/10], Validation Accuracy: 0.7177\n",
      "Epoch [8/10], Validation Accuracy: 0.7405\n",
      "Epoch [9/10], Validation Accuracy: 0.7565\n",
      "Epoch [10/10], Validation Accuracy: 0.7725\n",
      "-------------------------------------------\n",
      "Hidden Neurons: 64, Learning Rate: 0.0001\n",
      "Epoch [1/10], Validation Accuracy: 0.1251\n",
      "Epoch [2/10], Validation Accuracy: 0.1319\n",
      "Epoch [3/10], Validation Accuracy: 0.1416\n",
      "Epoch [4/10], Validation Accuracy: 0.1569\n",
      "Epoch [5/10], Validation Accuracy: 0.1765\n",
      "Epoch [6/10], Validation Accuracy: 0.1969\n",
      "Epoch [7/10], Validation Accuracy: 0.2207\n",
      "Epoch [8/10], Validation Accuracy: 0.2452\n",
      "Epoch [9/10], Validation Accuracy: 0.2688\n",
      "Epoch [10/10], Validation Accuracy: 0.2935\n",
      "-------------------------------------------\n"
     ]
    }
   ],
   "source": [
    "import torch\n",
    "import torch.nn as nn\n",
    "import torch.optim as optim\n",
    "from torchvision.datasets import MNIST\n",
    "from torchvision.transforms import ToTensor\n",
    "from torch.utils.data import DataLoader, random_split\n",
    "\n",
    "# Laden der MNIST-Daten\n",
    "dataset = MNIST(root='data/', train=True, transform=ToTensor(), download=True)\n",
    "train_dataset, val_dataset = random_split(dataset, [50000, 10000])\n",
    "\n",
    "# Erstellen von Trainings- und Validierungs-Datenladern\n",
    "train_loader = DataLoader(train_dataset, batch_size=128, shuffle=True)\n",
    "val_loader = DataLoader(val_dataset, batch_size=128)\n",
    "\n",
    "# Definition des neuronalen Netzwerk-Modells\n",
    "class NeuralNet(nn.Module):\n",
    "    def __init__(self, hidden_neurons):\n",
    "        super(NeuralNet, self).__init__()\n",
    "        self.fc1 = nn.Linear(784, hidden_neurons)\n",
    "        self.relu = nn.ReLU()\n",
    "        self.fc2 = nn.Linear(hidden_neurons, 10)\n",
    "\n",
    "    def forward(self, x):\n",
    "        x = self.fc1(x)\n",
    "        x = self.relu(x)\n",
    "        x = self.fc2(x)\n",
    "        return x\n",
    "\n",
    "# Funktion zum Trainieren des Modells\n",
    "def train_model(hidden_neurons, learning_rate):\n",
    "    model = NeuralNet(hidden_neurons)\n",
    "    criterion = nn.CrossEntropyLoss()\n",
    "    optimizer = optim.SGD(model.parameters(), lr=learning_rate)\n",
    "\n",
    "    num_epochs = 10\n",
    "    for epoch in range(num_epochs):\n",
    "        for batch in train_loader:\n",
    "            images, labels = batch\n",
    "            images = images.reshape(-1, 784)\n",
    "\n",
    "            # Vorwärtsdurchlauf\n",
    "            outputs = model(images)\n",
    "            loss = criterion(outputs, labels)\n",
    "\n",
    "            # Rückwärtsdurchlauf und Optimierung\n",
    "            optimizer.zero_grad()\n",
    "            loss.backward()\n",
    "            optimizer.step()\n",
    "\n",
    "        # Bewertung des Modells auf dem Validierungsdatensatz\n",
    "        with torch.no_grad():\n",
    "            total = 0\n",
    "            correct = 0\n",
    "            for batch in val_loader:\n",
    "                images, labels = batch\n",
    "                images = images.reshape(-1, 784)\n",
    "\n",
    "                outputs = model(images)\n",
    "                _, predicted = torch.max(outputs.data, 1)\n",
    "\n",
    "                total += labels.size(0)\n",
    "                correct += (predicted == labels).sum().item()\n",
    "\n",
    "            accuracy = correct / total\n",
    "            print(f\"Epoch [{epoch+1}/{num_epochs}], Validation Accuracy: {accuracy}\")\n",
    "\n",
    "# Anzahl der versteckten Neuronen und Lernraten zum Experimentieren\n",
    "hidden_neurons_list = [16, 32, 64]\n",
    "learning_rate_list = [0.01, 0.001, 0.0001]\n",
    "\n",
    "# Durchführung der Experimente\n",
    "for hidden_neurons in hidden_neurons_list:\n",
    "    for learning_rate in learning_rate_list:\n",
    "        print(f\"Hidden Neurons: {hidden_neurons}, Learning Rate: {learning_rate}\")\n",
    "        train_model(hidden_neurons, learning_rate)\n",
    "        print(\"-------------------------------------------\")\n"
   ]
  },
  {
   "cell_type": "code",
   "execution_count": null,
   "id": "76696e99",
   "metadata": {},
   "outputs": [],
   "source": []
  }
 ],
 "metadata": {
  "kernelspec": {
   "display_name": "Python 3 (ipykernel)",
   "language": "python",
   "name": "python3"
  },
  "language_info": {
   "codemirror_mode": {
    "name": "ipython",
    "version": 3
   },
   "file_extension": ".py",
   "mimetype": "text/x-python",
   "name": "python",
   "nbconvert_exporter": "python",
   "pygments_lexer": "ipython3",
   "version": "3.10.9"
  }
 },
 "nbformat": 4,
 "nbformat_minor": 5
}
